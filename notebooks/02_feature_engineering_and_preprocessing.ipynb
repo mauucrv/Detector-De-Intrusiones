{
 "cells": [
  {
   "cell_type": "markdown",
   "id": "ad47c039",
   "metadata": {},
   "source": [
    "# 02 - Preprocesamiento y Feature Engineering\n",
    "\n",
    "**Objetivo:** En este notebook, preparamos el dataset para el entrenamiento de modelos de Machine Learning. Las tareas incluyen: selección de características basada en el EDA, separación de datos en conjuntos de entrenamiento y prueba, y escalado de las características numéricas."
   ]
  },
  {
   "cell_type": "markdown",
   "id": "7a029fb2",
   "metadata": {},
   "source": [
    "## 1. Carga de Datos e Importaciones"
   ]
  },
  {
   "cell_type": "code",
   "execution_count": 5,
   "id": "43a23240",
   "metadata": {},
   "outputs": [],
   "source": [
    "import pandas as pd\n",
    "import numpy as np\n",
    "from sklearn.model_selection import train_test_split\n",
    "from sklearn.preprocessing import StandardScaler\n",
    "from sklearn.ensemble import RandomForestClassifier\n",
    "from sklearn.feature_selection import SelectFromModel"
   ]
  },
  {
   "cell_type": "code",
   "execution_count": 6,
   "id": "a8f9a631",
   "metadata": {},
   "outputs": [],
   "source": [
    "# Cargar el dataset optimizado\n",
    "df = pd.read_parquet(r'../data/processed/cic_ids_2017_optimized.parquet')"
   ]
  },
  {
   "cell_type": "markdown",
   "id": "010a59d6",
   "metadata": {},
   "source": [
    "## 2. Selección de Características (Feature Selection)\n",
    "\n",
    "Basado en el Análisis Exploratorio de Datos (EDA), tomaremos decisiones sobre qué características conservar."
   ]
  },
  {
   "cell_type": "code",
   "execution_count": 7,
   "id": "cab7a80f",
   "metadata": {},
   "outputs": [],
   "source": [
    "# Selección Manual (Basada en Correlación)\n",
    "# En el EDA, vimos una correlación muy alta (0.89) entre 'Flow Duration' y 'Flow IAT Mean'.\n",
    "# Decidimos eliminar 'Flow IAT Mean' para reducir la redundancia.\n",
    "df.drop(columns = ['Flow IAT Mean'], inplace = True)"
   ]
  },
  {
   "cell_type": "markdown",
   "id": "0da8bdd6",
   "metadata": {},
   "source": [
    "## 3. Separación de Datos\n",
    "\n",
    "Separamos nuestras variables predictoras (**X**) de nuestra variable objetivo (**y**)."
   ]
  },
  {
   "cell_type": "code",
   "execution_count": 8,
   "id": "1bfb8d9d",
   "metadata": {},
   "outputs": [],
   "source": [
    "X = df.drop('Label', axis = 1)\n",
    "y = df['Label']"
   ]
  },
  {
   "cell_type": "markdown",
   "id": "40365e72",
   "metadata": {},
   "source": [
    "## 4. División en Conjuntos de Entrenamiento y Prueba (Train/Test Split)\n",
    "\n",
    "Dividimos el dataset. Es **crucial** hacer esto **antes** de cualquier otro preprocesamiento (como el escalado) para evitar la fuga de datos (data leakage). Usamos **stratify = y** para asegurar que la proporción de clases sea la misma en ambos conjuntos, lo cual es vital para datasets desbalanceados."
   ]
  },
  {
   "cell_type": "code",
   "execution_count": 9,
   "id": "a2eb65cb",
   "metadata": {},
   "outputs": [],
   "source": [
    "X_train, X_test, y_train, y_test = train_test_split(X, y, test_size = 0.3, random_state = 42, stratify = y)"
   ]
  }
 ],
 "metadata": {
  "kernelspec": {
   "display_name": "Python (Cyber-Project)",
   "language": "python",
   "name": "cyber-project-py311"
  },
  "language_info": {
   "codemirror_mode": {
    "name": "ipython",
    "version": 3
   },
   "file_extension": ".py",
   "mimetype": "text/x-python",
   "name": "python",
   "nbconvert_exporter": "python",
   "pygments_lexer": "ipython3",
   "version": "3.11.13"
  }
 },
 "nbformat": 4,
 "nbformat_minor": 5
}
