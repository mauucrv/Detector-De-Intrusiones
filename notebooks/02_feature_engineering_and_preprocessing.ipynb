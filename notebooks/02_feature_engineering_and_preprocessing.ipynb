{
 "cells": [
  {
   "cell_type": "markdown",
   "id": "ad47c039",
   "metadata": {},
   "source": [
    "# 02 - Preprocesamiento y Feature Engineering\n",
    "\n",
    "**Objetivo:** En este notebook, se prepara el dataset para el entrenamiento de modelos. Se aplican las decisiones tomadas en el EDA, se seleccionan las características más importantes, se dividen los datos y se escalan para dejarlos en un formato óptimo para los algoritmos de Machine Learning."
   ]
  },
  {
   "cell_type": "markdown",
   "id": "7a029fb2",
   "metadata": {},
   "source": [
    "## 1. Carga de Datos e Importaciones\n",
    "Importamos las librerías necesarias y cargamos el dataset limpio y optimizado que generamos en el primer notebook."
   ]
  },
  {
   "cell_type": "code",
   "execution_count": 1,
   "id": "43a23240",
   "metadata": {},
   "outputs": [],
   "source": [
    "import pandas as pd\n",
    "import numpy as np\n",
    "from sklearn.model_selection import train_test_split\n",
    "from sklearn.preprocessing import StandardScaler\n",
    "from sklearn.ensemble import RandomForestClassifier\n",
    "from sklearn.feature_selection import SelectFromModel\n",
    "from joblib import dump\n",
    "import warnings"
   ]
  },
  {
   "cell_type": "code",
   "execution_count": 2,
   "id": "a8f9a631",
   "metadata": {},
   "outputs": [
    {
     "data": {
      "text/html": [
       "<div>\n",
       "<style scoped>\n",
       "    .dataframe tbody tr th:only-of-type {\n",
       "        vertical-align: middle;\n",
       "    }\n",
       "\n",
       "    .dataframe tbody tr th {\n",
       "        vertical-align: top;\n",
       "    }\n",
       "\n",
       "    .dataframe thead th {\n",
       "        text-align: right;\n",
       "    }\n",
       "</style>\n",
       "<table border=\"1\" class=\"dataframe\">\n",
       "  <thead>\n",
       "    <tr style=\"text-align: right;\">\n",
       "      <th></th>\n",
       "      <th>Destination Port</th>\n",
       "      <th>Flow Duration</th>\n",
       "      <th>Total Fwd Packets</th>\n",
       "      <th>Total Backward Packets</th>\n",
       "      <th>Total Length of Fwd Packets</th>\n",
       "      <th>Total Length of Bwd Packets</th>\n",
       "      <th>Fwd Packet Length Max</th>\n",
       "      <th>Fwd Packet Length Min</th>\n",
       "      <th>Fwd Packet Length Mean</th>\n",
       "      <th>Fwd Packet Length Std</th>\n",
       "      <th>...</th>\n",
       "      <th>min_seg_size_forward</th>\n",
       "      <th>Active Mean</th>\n",
       "      <th>Active Std</th>\n",
       "      <th>Active Max</th>\n",
       "      <th>Active Min</th>\n",
       "      <th>Idle Mean</th>\n",
       "      <th>Idle Std</th>\n",
       "      <th>Idle Max</th>\n",
       "      <th>Idle Min</th>\n",
       "      <th>Label</th>\n",
       "    </tr>\n",
       "  </thead>\n",
       "  <tbody>\n",
       "    <tr>\n",
       "      <th>0</th>\n",
       "      <td>54865</td>\n",
       "      <td>3</td>\n",
       "      <td>2</td>\n",
       "      <td>0</td>\n",
       "      <td>12</td>\n",
       "      <td>0</td>\n",
       "      <td>6</td>\n",
       "      <td>6</td>\n",
       "      <td>6.0</td>\n",
       "      <td>0.0</td>\n",
       "      <td>...</td>\n",
       "      <td>20</td>\n",
       "      <td>0.0</td>\n",
       "      <td>0.0</td>\n",
       "      <td>0</td>\n",
       "      <td>0</td>\n",
       "      <td>0.0</td>\n",
       "      <td>0.0</td>\n",
       "      <td>0</td>\n",
       "      <td>0</td>\n",
       "      <td>BENIGN</td>\n",
       "    </tr>\n",
       "    <tr>\n",
       "      <th>1</th>\n",
       "      <td>55054</td>\n",
       "      <td>109</td>\n",
       "      <td>1</td>\n",
       "      <td>1</td>\n",
       "      <td>6</td>\n",
       "      <td>6</td>\n",
       "      <td>6</td>\n",
       "      <td>6</td>\n",
       "      <td>6.0</td>\n",
       "      <td>0.0</td>\n",
       "      <td>...</td>\n",
       "      <td>20</td>\n",
       "      <td>0.0</td>\n",
       "      <td>0.0</td>\n",
       "      <td>0</td>\n",
       "      <td>0</td>\n",
       "      <td>0.0</td>\n",
       "      <td>0.0</td>\n",
       "      <td>0</td>\n",
       "      <td>0</td>\n",
       "      <td>BENIGN</td>\n",
       "    </tr>\n",
       "    <tr>\n",
       "      <th>2</th>\n",
       "      <td>55055</td>\n",
       "      <td>52</td>\n",
       "      <td>1</td>\n",
       "      <td>1</td>\n",
       "      <td>6</td>\n",
       "      <td>6</td>\n",
       "      <td>6</td>\n",
       "      <td>6</td>\n",
       "      <td>6.0</td>\n",
       "      <td>0.0</td>\n",
       "      <td>...</td>\n",
       "      <td>20</td>\n",
       "      <td>0.0</td>\n",
       "      <td>0.0</td>\n",
       "      <td>0</td>\n",
       "      <td>0</td>\n",
       "      <td>0.0</td>\n",
       "      <td>0.0</td>\n",
       "      <td>0</td>\n",
       "      <td>0</td>\n",
       "      <td>BENIGN</td>\n",
       "    </tr>\n",
       "    <tr>\n",
       "      <th>3</th>\n",
       "      <td>46236</td>\n",
       "      <td>34</td>\n",
       "      <td>1</td>\n",
       "      <td>1</td>\n",
       "      <td>6</td>\n",
       "      <td>6</td>\n",
       "      <td>6</td>\n",
       "      <td>6</td>\n",
       "      <td>6.0</td>\n",
       "      <td>0.0</td>\n",
       "      <td>...</td>\n",
       "      <td>20</td>\n",
       "      <td>0.0</td>\n",
       "      <td>0.0</td>\n",
       "      <td>0</td>\n",
       "      <td>0</td>\n",
       "      <td>0.0</td>\n",
       "      <td>0.0</td>\n",
       "      <td>0</td>\n",
       "      <td>0</td>\n",
       "      <td>BENIGN</td>\n",
       "    </tr>\n",
       "    <tr>\n",
       "      <th>4</th>\n",
       "      <td>54863</td>\n",
       "      <td>3</td>\n",
       "      <td>2</td>\n",
       "      <td>0</td>\n",
       "      <td>12</td>\n",
       "      <td>0</td>\n",
       "      <td>6</td>\n",
       "      <td>6</td>\n",
       "      <td>6.0</td>\n",
       "      <td>0.0</td>\n",
       "      <td>...</td>\n",
       "      <td>20</td>\n",
       "      <td>0.0</td>\n",
       "      <td>0.0</td>\n",
       "      <td>0</td>\n",
       "      <td>0</td>\n",
       "      <td>0.0</td>\n",
       "      <td>0.0</td>\n",
       "      <td>0</td>\n",
       "      <td>0</td>\n",
       "      <td>BENIGN</td>\n",
       "    </tr>\n",
       "  </tbody>\n",
       "</table>\n",
       "<p>5 rows × 79 columns</p>\n",
       "</div>"
      ],
      "text/plain": [
       "   Destination Port  Flow Duration  Total Fwd Packets  Total Backward Packets  \\\n",
       "0             54865              3                  2                       0   \n",
       "1             55054            109                  1                       1   \n",
       "2             55055             52                  1                       1   \n",
       "3             46236             34                  1                       1   \n",
       "4             54863              3                  2                       0   \n",
       "\n",
       "   Total Length of Fwd Packets  Total Length of Bwd Packets  \\\n",
       "0                           12                            0   \n",
       "1                            6                            6   \n",
       "2                            6                            6   \n",
       "3                            6                            6   \n",
       "4                           12                            0   \n",
       "\n",
       "   Fwd Packet Length Max  Fwd Packet Length Min  Fwd Packet Length Mean  \\\n",
       "0                      6                      6                     6.0   \n",
       "1                      6                      6                     6.0   \n",
       "2                      6                      6                     6.0   \n",
       "3                      6                      6                     6.0   \n",
       "4                      6                      6                     6.0   \n",
       "\n",
       "   Fwd Packet Length Std  ...  min_seg_size_forward  Active Mean  Active Std  \\\n",
       "0                    0.0  ...                    20          0.0         0.0   \n",
       "1                    0.0  ...                    20          0.0         0.0   \n",
       "2                    0.0  ...                    20          0.0         0.0   \n",
       "3                    0.0  ...                    20          0.0         0.0   \n",
       "4                    0.0  ...                    20          0.0         0.0   \n",
       "\n",
       "   Active Max  Active Min  Idle Mean  Idle Std  Idle Max  Idle Min   Label  \n",
       "0           0           0        0.0       0.0         0         0  BENIGN  \n",
       "1           0           0        0.0       0.0         0         0  BENIGN  \n",
       "2           0           0        0.0       0.0         0         0  BENIGN  \n",
       "3           0           0        0.0       0.0         0         0  BENIGN  \n",
       "4           0           0        0.0       0.0         0         0  BENIGN  \n",
       "\n",
       "[5 rows x 79 columns]"
      ]
     },
     "execution_count": 2,
     "metadata": {},
     "output_type": "execute_result"
    }
   ],
   "source": [
    "# Ignoramos este tipo específico de RuntimeWarning que proviene del módulo de formato de Pandas,\n",
    "# ya que sabemos que es un efecto secundario inofensivo de nuestra optimización de memoria.\n",
    "warnings.filterwarnings(\n",
    "    \"ignore\",\n",
    "    category = RuntimeWarning,\n",
    "    module = \"pandas.io.formats.format\"\n",
    ")\n",
    "\n",
    "# Cargar el dataset optimizado\n",
    "df = pd.read_parquet(r'../data/processed/cic_ids_2017_optimized.parquet')\n",
    "\n",
    "# Mostrar las primeras 5 filas para verificar que la carga fue exitosa\n",
    "df.head()"
   ]
  },
  {
   "cell_type": "markdown",
   "id": "010a59d6",
   "metadata": {},
   "source": [
    "## 2. Selección Manual de Características\n",
    "Basado en la alta correlación (0.89) encontrada en el EDA entre `Flow Duration` y `Flow IAT Mean`, eliminamos esta última para reducir la redundancia en el modelo."
   ]
  },
  {
   "cell_type": "code",
   "execution_count": 3,
   "id": "cab7a80f",
   "metadata": {},
   "outputs": [
    {
     "name": "stdout",
     "output_type": "stream",
     "text": [
      "Columna 'Flow IAT Mean' eliminada.\n",
      "Nuevas dimensiones del DataFrame: (2827876, 78)\n"
     ]
    }
   ],
   "source": [
    "# Eliminar la columna redundante identificada en el EDA\n",
    "df.drop(columns = ['Flow IAT Mean'], inplace = True)\n",
    "\n",
    "# Confirmar la nueva forma del DataFrame\n",
    "print(\"Columna 'Flow IAT Mean' eliminada.\")\n",
    "print(f\"Nuevas dimensiones del DataFrame: {df.shape}\")"
   ]
  },
  {
   "cell_type": "markdown",
   "id": "0da8bdd6",
   "metadata": {},
   "source": [
    "## 3. División en Características (X) y Objetivo (y)\n",
    "Separamos nuestro DataFrame en dos: \n",
    "- `X`: Contendrá todas las características predictoras.\n",
    "- `y`: Contendrá la columna objetivo que queremos predecir (`Label`)."
   ]
  },
  {
   "cell_type": "code",
   "execution_count": 4,
   "id": "1bfb8d9d",
   "metadata": {},
   "outputs": [
    {
     "name": "stdout",
     "output_type": "stream",
     "text": [
      "Dimensiones de X (características): (2827876, 77)\n",
      "Dimensiones de y (objetivo): (2827876,)\n"
     ]
    }
   ],
   "source": [
    "X = df.drop('Label', axis = 1)\n",
    "y = df['Label']\n",
    "\n",
    "# Imprimir las dimensiones para verificar la separación\n",
    "print(\"Dimensiones de X (características):\", X.shape)\n",
    "print(\"Dimensiones de y (objetivo):\", y.shape)"
   ]
  },
  {
   "cell_type": "markdown",
   "id": "40365e72",
   "metadata": {},
   "source": [
    "## 4. División en Conjuntos de Entrenamiento y Prueba (Train/Test Split)\n",
    "Dividimos los datos en un conjunto de entrenamiento (70%) y uno de prueba (30%). Es crucial hacer esto **antes** de aplicar técnicas como la selección automática o el escalado para evitar la fuga de datos (data leakage).\n",
    "\n",
    "Se utiliza `stratify = y` para asegurar que la proporción de clases (el desbalance) sea la misma tanto en el conjunto de entrenamiento como en el de prueba."
   ]
  },
  {
   "cell_type": "code",
   "execution_count": 5,
   "id": "a2eb65cb",
   "metadata": {},
   "outputs": [
    {
     "name": "stdout",
     "output_type": "stream",
     "text": [
      "Dimensiones de X_train: (1979513, 77)\n",
      "Dimensiones de X_test: (848363, 77)\n",
      "Dimensiones de y_train: (1979513,)\n",
      "Dimensiones de y_test: (848363,)\n"
     ]
    }
   ],
   "source": [
    "X_train, X_test, y_train, y_test = train_test_split(X, y, test_size = 0.3, random_state = 42, stratify = y)\n",
    "\n",
    "# Imprimir las dimensiones de los nuevos conjuntos de datos para verificar\n",
    "print(\"Dimensiones de X_train:\", X_train.shape)\n",
    "print(\"Dimensiones de X_test:\", X_test.shape)\n",
    "print(\"Dimensiones de y_train:\", y_train.shape)\n",
    "print(\"Dimensiones de y_test:\", y_test.shape)"
   ]
  },
  {
   "cell_type": "markdown",
   "id": "afb40cb2",
   "metadata": {},
   "source": [
    "## 5. Selección Automática de Características\n",
    "\n",
    "Utilizamos un modelo `RandomForestClassifier` como \"juez\" a través de `SelectFromModel` para evaluar la importancia de las características. Este método nos permite quedarnos solo con las variables más informativas, reduciendo la dimensionalidad del problema.\n",
    "\n",
    "Se establece un umbral (`threshold = 'median'`) para seleccionar automáticamente la mitad superior de las características más importantes."
   ]
  },
  {
   "cell_type": "code",
   "execution_count": 6,
   "id": "0040f329",
   "metadata": {},
   "outputs": [
    {
     "name": "stdout",
     "output_type": "stream",
     "text": [
      "Entrenando el selector de características (puede tardar unos minutos)...\n",
      "\n",
      "Proceso de selección completado.\n",
      "Número original de características: 77\n",
      "Número de características seleccionadas: 39\n",
      "\n",
      "Características seleccionadas:\n",
      "['Destination Port', 'Flow Duration', 'Total Fwd Packets', 'Total Backward Packets', 'Total Length of Fwd Packets', 'Total Length of Bwd Packets', 'Fwd Packet Length Max', 'Fwd Packet Length Mean', 'Fwd Packet Length Std', 'Bwd Packet Length Max', 'Bwd Packet Length Mean', 'Bwd Packet Length Std', 'Flow Bytes/s', 'Flow Packets/s', 'Flow IAT Max', 'Fwd IAT Total', 'Fwd IAT Mean', 'Fwd IAT Std', 'Fwd IAT Max', 'Fwd Header Length', 'Bwd Header Length', 'Fwd Packets/s', 'Bwd Packets/s', 'Max Packet Length', 'Packet Length Mean', 'Packet Length Std', 'Packet Length Variance', 'PSH Flag Count', 'Average Packet Size', 'Avg Fwd Segment Size', 'Avg Bwd Segment Size', 'Fwd Header Length.1', 'Subflow Fwd Packets', 'Subflow Fwd Bytes', 'Subflow Bwd Bytes', 'Init_Win_bytes_forward', 'Init_Win_bytes_backward', 'act_data_pkt_fwd', 'min_seg_size_forward']\n"
     ]
    }
   ],
   "source": [
    "# Crear y entrenar el selector de características\n",
    "selector_model = RandomForestClassifier(n_estimators = 50, random_state = 42, n_jobs = -1)\n",
    "selector = SelectFromModel(estimator = selector_model, threshold = 'median', prefit = False) # prefit=False es buena práctica\n",
    "\n",
    "print(\"Entrenando el selector de características (puede tardar unos minutos)...\")\n",
    "# El selector se ajusta solo con los datos de entrenamiento\n",
    "selector.fit(X_train, y_train)\n",
    "\n",
    "# Obtener los nombres de las columnas que nos vamos a quedar\n",
    "selected_features = X_train.columns[selector.get_support()]\n",
    "\n",
    "# Sobrescribir X_train y X_test para que contengan solo las características seleccionadas\n",
    "X_train = selector.transform(X_train)\n",
    "X_test = selector.transform(X_test)\n",
    "\n",
    "# Imprimir los resultados de la selección\n",
    "print(\"\\nProceso de selección completado.\")\n",
    "print(\"Número original de características:\", len(selector.feature_names_in_))\n",
    "print(\"Número de características seleccionadas:\", X_train.shape[1])\n",
    "print(\"\\nCaracterísticas seleccionadas:\")\n",
    "print(selected_features.tolist())"
   ]
  },
  {
   "cell_type": "markdown",
   "id": "8e43255d",
   "metadata": {},
   "source": [
    "## 6. Escalado de Características Numéricas (Scaling)\n",
    "\n",
    "Aplicamos un `StandardScaler` para estandarizar las características (media 0, desviación estándar 1). Esto es crucial para el rendimiento de muchos algoritmos de Machine Learning.\n",
    "\n",
    "El escalador se \"ajusta\" y \"transforma\" (`.fit_transform()`) con los datos de entrenamiento. Luego, se usa ese mismo escalador ya \"entrenado\" para aplicar la misma transformación (`.transform()`) al conjunto de prueba, evitando así la fuga de datos."
   ]
  },
  {
   "cell_type": "code",
   "execution_count": 7,
   "id": "207d1096",
   "metadata": {},
   "outputs": [
    {
     "name": "stdout",
     "output_type": "stream",
     "text": [
      "Dimensiones de X_train después del escalado: (1979513, 39)\n",
      "Dimensiones de X_test después del escalado: (848363, 39)\n"
     ]
    }
   ],
   "source": [
    "# Instanciar el escalador\n",
    "scaler = StandardScaler()\n",
    "\n",
    "# Ajustar y transformar el conjunto de entrenamiento en un solo paso\n",
    "X_train_scaled = scaler.fit_transform(X_train)\n",
    "\n",
    "# Transformar el conjunto de prueba usando los parámetros aprendidos del conjunto de entrenamiento\n",
    "X_test_scaled = scaler.transform(X_test)\n",
    "\n",
    "# Verificar las dimensiones (deberían ser las mismas que antes del escalado)\n",
    "print(\"Dimensiones de X_train después del escalado:\", X_train_scaled.shape)\n",
    "print(\"Dimensiones de X_test después del escalado:\", X_test_scaled.shape)"
   ]
  },
  {
   "cell_type": "markdown",
   "id": "d775fdba",
   "metadata": {},
   "source": [
    "## 7. Guardado de los Datos Preprocesados\n",
    "\n",
    "Finalmente, guardamos todos los objetos que hemos creado (los conjuntos de entrenamiento y prueba ya escalados, las etiquetas y la lista de características seleccionadas) en un único archivo `.joblib`.\n",
    "\n",
    "Esto nos permitirá cargar todos estos datos listos para usar con una sola línea de código en el notebook de modelado."
   ]
  },
  {
   "cell_type": "code",
   "execution_count": 8,
   "id": "eed357fb",
   "metadata": {},
   "outputs": [
    {
     "name": "stdout",
     "output_type": "stream",
     "text": [
      "Datos preprocesados y guardados exitosamente en: ../data/processed/cicids2017_preprocessed_data.joblib\n"
     ]
    }
   ],
   "source": [
    "# Crear un diccionario con todos los objetos a guardar\n",
    "datos_preprocesados = {\n",
    "    'X_train_scaled': X_train_scaled,\n",
    "    'X_test_scaled': X_test_scaled,\n",
    "    'y_train': y_train,\n",
    "    'y_test': y_test,\n",
    "    'selected_features': selected_features # Usamos el nombre de variable consistente\n",
    "}\n",
    "\n",
    "# Definir la ruta de guardado\n",
    "path_to_save = r'../data/processed/cicids2017_preprocessed_data.joblib'\n",
    "\n",
    "# Guardar el diccionario en un archivo\n",
    "dump(datos_preprocesados, path_to_save)\n",
    "\n",
    "print(f\"Datos preprocesados y guardados exitosamente en: {path_to_save}\")"
   ]
  }
 ],
 "metadata": {
  "kernelspec": {
   "display_name": "Python (Cyber-Project)",
   "language": "python",
   "name": "cyber-project-py311"
  },
  "language_info": {
   "codemirror_mode": {
    "name": "ipython",
    "version": 3
   },
   "file_extension": ".py",
   "mimetype": "text/x-python",
   "name": "python",
   "nbconvert_exporter": "python",
   "pygments_lexer": "ipython3",
   "version": "3.11.13"
  }
 },
 "nbformat": 4,
 "nbformat_minor": 5
}
