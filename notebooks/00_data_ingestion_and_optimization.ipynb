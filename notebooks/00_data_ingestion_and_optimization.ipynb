{
 "cells": [
  {
   "cell_type": "code",
   "execution_count": 14,
   "id": "9ad00bf9",
   "metadata": {},
   "outputs": [],
   "source": [
    "import pandas as pd\n",
    "import numpy as np\n",
    "import os\n",
    "import glob"
   ]
  },
  {
   "cell_type": "code",
   "execution_count": 15,
   "id": "c22ef4e6",
   "metadata": {},
   "outputs": [
    {
     "name": "stdout",
     "output_type": "stream",
     "text": [
      "Dimensiones del dataframe completo: (2830743, 79)\n"
     ]
    }
   ],
   "source": [
    "# Cargar y unir los archivos CSV\n",
    "# Definir la ruta donde están los archivos CSV\n",
    "path_to_csvs = r\"C:\\Users\\brand\\ProyectoAnalisisCiber\\data\\raw\\DatasetCICIDS2017\\MachineLearningCVE\"  # Directorio donde están los archivos CSV\n",
    "\n",
    "# Se utiliza glob para encontrar todos los archivos CSV en el directorio\n",
    "csv_files = glob.glob(os.path.join(path_to_csvs, \"*.csv\")) # Lista de todos los archivos CSV en el directorio\n",
    "\n",
    "# Leer cada csv y guardarlo en una lista de dataframes\n",
    "df_list = [] # Lista para almacenar los dataframes\n",
    "for file_name in csv_files: # Iterar sobre cada archivo CSV\n",
    "    df = pd.read_csv(file_name) # Leer el archivo CSV\n",
    "    df_list.append(df) # Añadir el dataframe a la lista\n",
    "\n",
    "# Concatenar todos los dataframes en uno solo\n",
    "data = pd.concat(df_list, ignore_index = True) # Concatenar todos los dataframes en uno solo\n",
    "print(f\"Dimensiones del dataframe completo: {data.shape}\") # Imprimir las dimensiones del dataframe completo"
   ]
  },
  {
   "cell_type": "code",
   "execution_count": 16,
   "id": "1aa7bd68",
   "metadata": {},
   "outputs": [
    {
     "name": "stdout",
     "output_type": "stream",
     "text": [
      "Nuevas dimensiones del DataFrame: (2827876, 79)\n"
     ]
    },
    {
     "data": {
      "text/plain": [
       "np.int64(0)"
      ]
     },
     "execution_count": 16,
     "metadata": {},
     "output_type": "execute_result"
    }
   ],
   "source": [
    "# Limpieza y optimización inicial\n",
    "data.columns = data.columns.str.strip() # Eliminar espacios en los nombres de las columnas\n",
    "\n",
    "# El dataset CIC-IDS-2017 puede contener valores infinitos \n",
    "# Los reemplazamos con NaN (Not a Number) y luego eliminamos esas filas\n",
    "data.replace([np.inf, -np.inf], np.nan, inplace = True)\n",
    "data.dropna(inplace = True)\n",
    "print(f\"Nuevas dimensiones del DataFrame: {data.shape}\")\n",
    "data.isnull().sum().sum() # Verificar que no haya valores nulos"
   ]
  },
  {
   "cell_type": "code",
   "execution_count": null,
   "id": "fcba25ad",
   "metadata": {},
   "outputs": [],
   "source": []
  }
 ],
 "metadata": {
  "kernelspec": {
   "display_name": "Python (Cyber-Project)",
   "language": "python",
   "name": "cyber-project-py311"
  },
  "language_info": {
   "codemirror_mode": {
    "name": "ipython",
    "version": 3
   },
   "file_extension": ".py",
   "mimetype": "text/x-python",
   "name": "python",
   "nbconvert_exporter": "python",
   "pygments_lexer": "ipython3",
   "version": "3.11.13"
  }
 },
 "nbformat": 4,
 "nbformat_minor": 5
}
